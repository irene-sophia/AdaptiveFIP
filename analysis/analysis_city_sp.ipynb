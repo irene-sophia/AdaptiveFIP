{
 "cells": [
  {
   "cell_type": "code",
   "execution_count": 1,
   "metadata": {
    "ExecuteTime": {
     "end_time": "2024-07-08T14:55:24.671132700Z",
     "start_time": "2024-07-08T14:55:24.356465100Z"
    }
   },
   "outputs": [],
   "source": [
    "import pandas as pd\n",
    "import matplotlib.pyplot as plt\n",
    "import seaborn as sns\n",
    "import glob\n",
    "from collections import defaultdict\n",
    "\n",
    "# sns.set_style(\"whitegrid\")\n",
    "sns.set(style={'style': \"whitegrid\", 'axes.grid' : False}, font_scale=1.5)"
   ]
  },
  {
   "cell_type": "code",
   "execution_count": 2,
   "metadata": {
    "ExecuteTime": {
     "end_time": "2024-07-08T14:55:24.672129900Z",
     "start_time": "2024-07-08T14:55:24.362957Z"
    }
   },
   "outputs": [
    {
     "data": {
      "text/plain": "'C:\\\\Users\\\\isvandroffelaa\\\\Documents\\\\model\\\\adaptive_policies\\\\analysis'"
     },
     "execution_count": 2,
     "metadata": {},
     "output_type": "execute_result"
    }
   ],
   "source": [
    "import os\n",
    "os.getcwd()"
   ]
  },
  {
   "cell_type": "code",
   "execution_count": 3,
   "outputs": [],
   "source": [
    "num_units = 3\n",
    "num_sensors = 3\n",
    "run_length = 1800\n",
    "rbf_shape = 'linear'\n",
    "numrbf = 2\n",
    "nfe = 10000\n",
    "\n",
    "city='Manhattan'"
   ],
   "metadata": {
    "collapsed": false,
    "ExecuteTime": {
     "end_time": "2024-07-08T14:55:24.673128Z",
     "start_time": "2024-07-08T14:55:24.380908800Z"
    }
   }
  },
  {
   "cell_type": "code",
   "execution_count": 4,
   "outputs": [],
   "source": [
    "# results_reopt = pd.read_csv(f'../reopt/results/HPC_results/manhattan/nfe{nfe}/results_N10_R100_U{num_units}_S{num_sensors}_upto1.csv')\n",
    "results_reopt = pd.DataFrame()\n",
    "for num_units in [3, 10]:\n",
    "    for num_sensors in [3, 10]: \n",
    "        for instance in range(10):\n",
    "            try: \n",
    "                results_ = pd.read_csv(f'../reopt/results/HPC_results/city/results_sp_const_{city}_R100_U{num_units}_S{num_sensors}_limitednfe_instance{instance}.csv')\n",
    "                results_reopt = pd.concat([results_reopt, results_])\n",
    "            except: \n",
    "                print(num_units, num_sensors, instance)"
   ],
   "metadata": {
    "collapsed": false,
    "ExecuteTime": {
     "end_time": "2024-07-08T14:55:25.633015800Z",
     "start_time": "2024-07-08T14:55:24.387890Z"
    }
   }
  },
  {
   "cell_type": "code",
   "execution_count": 5,
   "outputs": [
    {
     "data": {
      "text/plain": "    n_realizations  num_units  num_sensors  instance  pct_intercepted\n0            100.0        3.0          3.0       0.0             0.61\n0            100.0        3.0          3.0       0.0             0.61\n1            100.0        3.0          3.0       1.0             0.57\n0            100.0        3.0          3.0       0.0             0.61\n1            100.0        3.0          3.0       1.0             0.57\n..             ...        ...          ...       ...              ...\n5            100.0       10.0         10.0       5.0             0.98\n6            100.0       10.0         10.0       6.0             0.96\n7            100.0       10.0         10.0       7.0             0.87\n8            100.0       10.0         10.0       8.0             0.91\n9            100.0       10.0         10.0       9.0             0.64\n\n[220 rows x 5 columns]",
      "text/html": "<div>\n<style scoped>\n    .dataframe tbody tr th:only-of-type {\n        vertical-align: middle;\n    }\n\n    .dataframe tbody tr th {\n        vertical-align: top;\n    }\n\n    .dataframe thead th {\n        text-align: right;\n    }\n</style>\n<table border=\"1\" class=\"dataframe\">\n  <thead>\n    <tr style=\"text-align: right;\">\n      <th></th>\n      <th>n_realizations</th>\n      <th>num_units</th>\n      <th>num_sensors</th>\n      <th>instance</th>\n      <th>pct_intercepted</th>\n    </tr>\n  </thead>\n  <tbody>\n    <tr>\n      <th>0</th>\n      <td>100.0</td>\n      <td>3.0</td>\n      <td>3.0</td>\n      <td>0.0</td>\n      <td>0.61</td>\n    </tr>\n    <tr>\n      <th>0</th>\n      <td>100.0</td>\n      <td>3.0</td>\n      <td>3.0</td>\n      <td>0.0</td>\n      <td>0.61</td>\n    </tr>\n    <tr>\n      <th>1</th>\n      <td>100.0</td>\n      <td>3.0</td>\n      <td>3.0</td>\n      <td>1.0</td>\n      <td>0.57</td>\n    </tr>\n    <tr>\n      <th>0</th>\n      <td>100.0</td>\n      <td>3.0</td>\n      <td>3.0</td>\n      <td>0.0</td>\n      <td>0.61</td>\n    </tr>\n    <tr>\n      <th>1</th>\n      <td>100.0</td>\n      <td>3.0</td>\n      <td>3.0</td>\n      <td>1.0</td>\n      <td>0.57</td>\n    </tr>\n    <tr>\n      <th>...</th>\n      <td>...</td>\n      <td>...</td>\n      <td>...</td>\n      <td>...</td>\n      <td>...</td>\n    </tr>\n    <tr>\n      <th>5</th>\n      <td>100.0</td>\n      <td>10.0</td>\n      <td>10.0</td>\n      <td>5.0</td>\n      <td>0.98</td>\n    </tr>\n    <tr>\n      <th>6</th>\n      <td>100.0</td>\n      <td>10.0</td>\n      <td>10.0</td>\n      <td>6.0</td>\n      <td>0.96</td>\n    </tr>\n    <tr>\n      <th>7</th>\n      <td>100.0</td>\n      <td>10.0</td>\n      <td>10.0</td>\n      <td>7.0</td>\n      <td>0.87</td>\n    </tr>\n    <tr>\n      <th>8</th>\n      <td>100.0</td>\n      <td>10.0</td>\n      <td>10.0</td>\n      <td>8.0</td>\n      <td>0.91</td>\n    </tr>\n    <tr>\n      <th>9</th>\n      <td>100.0</td>\n      <td>10.0</td>\n      <td>10.0</td>\n      <td>9.0</td>\n      <td>0.64</td>\n    </tr>\n  </tbody>\n</table>\n<p>220 rows × 5 columns</p>\n</div>"
     },
     "execution_count": 5,
     "metadata": {},
     "output_type": "execute_result"
    }
   ],
   "source": [
    "results_reopt"
   ],
   "metadata": {
    "collapsed": false,
    "ExecuteTime": {
     "end_time": "2024-07-08T14:55:25.635010300Z",
     "start_time": "2024-07-08T14:55:25.632014400Z"
    }
   }
  },
  {
   "cell_type": "code",
   "execution_count": 6,
   "outputs": [],
   "source": [
    "results_oneshot = defaultdict(dict)\n",
    "for num_units in [3, 10]:\n",
    "    for num_sensors in [3, 10]: \n",
    "        try: \n",
    "            results_ = pd.read_pickle(f'../reopt/results/city/sp_const_nosensorinfo_{city}_pctintercepted_R100_U{num_units}_numsensors{num_sensors}.pkl')\n",
    "            results_oneshot[num_units, num_sensors] = results_\n",
    "        except: \n",
    "            print(num_units, num_sensors)"
   ],
   "metadata": {
    "collapsed": false,
    "ExecuteTime": {
     "end_time": "2024-07-08T14:55:25.635010300Z",
     "start_time": "2024-07-08T14:55:25.632014400Z"
    }
   }
  },
  {
   "cell_type": "code",
   "execution_count": 7,
   "outputs": [
    {
     "data": {
      "text/plain": "defaultdict(dict,\n            {(3, 3): {0: 0.57,\n              1: 0.59,\n              2: 0.74,\n              3: 0.18,\n              4: 0.43,\n              5: 0.47,\n              6: 0.57,\n              7: 0.48,\n              8: 0.66,\n              9: 0.67},\n             (3, 10): {0: 0.57,\n              1: 0.58,\n              2: 0.74,\n              3: 0.18,\n              4: 0.43,\n              5: 0.47,\n              6: 0.57,\n              7: 0.49,\n              8: 0.64,\n              9: 0.65},\n             (10, 3): {0: 0.98,\n              1: 0.89,\n              2: 0.98,\n              3: 0.99,\n              4: 0.9,\n              5: 1.0,\n              6: 0.98,\n              7: 1.0,\n              8: 0.99,\n              9: 0.71},\n             (10, 10): {0: 0.97,\n              1: 0.99,\n              2: 1.0,\n              3: 0.98,\n              4: 0.99,\n              5: 1.0,\n              6: 1.0,\n              7: 0.99,\n              8: 0.98,\n              9: 0.71}})"
     },
     "execution_count": 7,
     "metadata": {},
     "output_type": "execute_result"
    }
   ],
   "source": [
    "results_oneshot"
   ],
   "metadata": {
    "collapsed": false,
    "ExecuteTime": {
     "end_time": "2024-07-08T14:55:25.688337200Z",
     "start_time": "2024-07-08T14:55:25.633015800Z"
    }
   }
  },
  {
   "cell_type": "code",
   "execution_count": 8,
   "metadata": {
    "pycharm": {
     "name": "#%%\n"
    },
    "ExecuteTime": {
     "end_time": "2024-07-08T14:55:25.746718800Z",
     "start_time": "2024-07-08T14:55:25.647075200Z"
    }
   },
   "outputs": [
    {
     "data": {
      "text/plain": "371"
     },
     "execution_count": 8,
     "metadata": {},
     "output_type": "execute_result"
    }
   ],
   "source": [
    "# path = f\"../DPS/grid/results_HPC/10k nfe/*R100*U{num_units}*S{num_sensors}*{rbf_shape}*.csv\"\n",
    "\n",
    "files = []\n",
    "for num_units in [3, 10]:\n",
    "    for num_sensors in [3, 10]:\n",
    "        path = f\"../DPS/city/results_HPC/sp_const_*{city}*R100*U{num_units}*S{num_sensors}*{rbf_shape}*numrbf{numrbf}*.csv\"\n",
    "        files.extend(glob.glob(path))\n",
    "\n",
    "len(files)"
   ]
  },
  {
   "cell_type": "code",
   "execution_count": 9,
   "metadata": {
    "ExecuteTime": {
     "end_time": "2024-07-08T14:55:32.982281Z",
     "start_time": "2024-07-08T14:55:25.703347400Z"
    }
   },
   "outputs": [],
   "source": [
    "results_DPS = pd.DataFrame()\n",
    "\n",
    "for file in files:\n",
    "    results_per_file = pd.DataFrame()\n",
    "    # best score = file content\n",
    "    imported_df = pd.read_csv(file)\n",
    "    \n",
    "    results_per_file['nfe'] = imported_df['nfe']\n",
    "    results_per_file['intercepted'] = 1 - imported_df['not_intercepted']\n",
    "\n",
    "    # extract S, U, seed from filename using .split()\n",
    "    split1 = file.replace(\"\\\\\", \"_\")\n",
    "    split2 = split1.replace(\".\", \"_\")\n",
    "    split3 = split2.split(\"_\")\n",
    "\n",
    "    num_sensors = 3\n",
    "    for seq in split3:\n",
    "        if \"seed\" in seq: \n",
    "            _, seed = seq.split(\"seed\")\n",
    "        elif \"instance\" in seq:\n",
    "            _, instance = seq.split(\"instance\")\n",
    "        elif \"U\" in seq: \n",
    "            _, num_units = seq.split(\"U\")\n",
    "        elif \"numrbf\" in seq:\n",
    "            _, num_rbf = seq.split(\"numrbf\")\n",
    "        elif \"S\" in seq:\n",
    "            _, num_sensors = seq.split(\"S\")\n",
    "\n",
    "            \n",
    "    if \"cubic\" in split3: \n",
    "        rbf = \"cubic\"\n",
    "    elif \"gaussian\" in split3:\n",
    "        rbf = \"gaussian\"\n",
    "    elif \"linear\" in split3:\n",
    "        rbf = \"linear\"\n",
    "            \n",
    "    results_per_file['seed'] = int(seed)\n",
    "    results_per_file['instance'] = int(instance)\n",
    "    results_per_file['num_units'] = int(num_units)\n",
    "    results_per_file['num_sensors'] = int(num_sensors)\n",
    "    results_per_file['rbf'] = rbf\n",
    "    results_per_file['numrbf'] = int(num_rbf)\n",
    "    results_per_file['instance/seed'] = str(instance) + ', ' + str(seed)\n",
    "    \n",
    "#     results_per_file['num_units_num_sensors'] = f\"{num_units}_{num_sensors}\"\n",
    "#     results_per_file['US_seed'] = f\"{num_units}_{num_sensors}_{seed}\"\n",
    "    \n",
    "    results_DPS = pd.concat([results_DPS, results_per_file])"
   ]
  },
  {
   "cell_type": "code",
   "execution_count": 10,
   "metadata": {
    "ExecuteTime": {
     "end_time": "2024-07-08T14:55:32.984275500Z",
     "start_time": "2024-07-08T14:55:31.867814200Z"
    }
   },
   "outputs": [
    {
     "data": {
      "text/plain": "      nfe  intercepted  seed  instance  num_units  num_sensors     rbf  \\\n0     100         0.43     0         0          3            3  linear   \n1   10043         0.62     0         0          3            3  linear   \n2    1169         0.47     0         0          3            3  linear   \n3    1363         0.47     0         0          3            3  linear   \n4    1556         0.47     0         0          3            3  linear   \n..    ...          ...   ...       ...        ...          ...     ...   \n48   9139         0.61     9         9         10           10  linear   \n49   9334         0.61     9         9         10           10  linear   \n50   9531         0.61     9         9         10           10  linear   \n51   9725         0.61     9         9         10           10  linear   \n52   9922         0.61     9         9         10           10  linear   \n\n    numrbf instance/seed  \n0        2          0, 0  \n1        2          0, 0  \n2        2          0, 0  \n3        2          0, 0  \n4        2          0, 0  \n..     ...           ...  \n48       2          9, 9  \n49       2          9, 9  \n50       2          9, 9  \n51       2          9, 9  \n52       2          9, 9  \n\n[20433 rows x 9 columns]",
      "text/html": "<div>\n<style scoped>\n    .dataframe tbody tr th:only-of-type {\n        vertical-align: middle;\n    }\n\n    .dataframe tbody tr th {\n        vertical-align: top;\n    }\n\n    .dataframe thead th {\n        text-align: right;\n    }\n</style>\n<table border=\"1\" class=\"dataframe\">\n  <thead>\n    <tr style=\"text-align: right;\">\n      <th></th>\n      <th>nfe</th>\n      <th>intercepted</th>\n      <th>seed</th>\n      <th>instance</th>\n      <th>num_units</th>\n      <th>num_sensors</th>\n      <th>rbf</th>\n      <th>numrbf</th>\n      <th>instance/seed</th>\n    </tr>\n  </thead>\n  <tbody>\n    <tr>\n      <th>0</th>\n      <td>100</td>\n      <td>0.43</td>\n      <td>0</td>\n      <td>0</td>\n      <td>3</td>\n      <td>3</td>\n      <td>linear</td>\n      <td>2</td>\n      <td>0, 0</td>\n    </tr>\n    <tr>\n      <th>1</th>\n      <td>10043</td>\n      <td>0.62</td>\n      <td>0</td>\n      <td>0</td>\n      <td>3</td>\n      <td>3</td>\n      <td>linear</td>\n      <td>2</td>\n      <td>0, 0</td>\n    </tr>\n    <tr>\n      <th>2</th>\n      <td>1169</td>\n      <td>0.47</td>\n      <td>0</td>\n      <td>0</td>\n      <td>3</td>\n      <td>3</td>\n      <td>linear</td>\n      <td>2</td>\n      <td>0, 0</td>\n    </tr>\n    <tr>\n      <th>3</th>\n      <td>1363</td>\n      <td>0.47</td>\n      <td>0</td>\n      <td>0</td>\n      <td>3</td>\n      <td>3</td>\n      <td>linear</td>\n      <td>2</td>\n      <td>0, 0</td>\n    </tr>\n    <tr>\n      <th>4</th>\n      <td>1556</td>\n      <td>0.47</td>\n      <td>0</td>\n      <td>0</td>\n      <td>3</td>\n      <td>3</td>\n      <td>linear</td>\n      <td>2</td>\n      <td>0, 0</td>\n    </tr>\n    <tr>\n      <th>...</th>\n      <td>...</td>\n      <td>...</td>\n      <td>...</td>\n      <td>...</td>\n      <td>...</td>\n      <td>...</td>\n      <td>...</td>\n      <td>...</td>\n      <td>...</td>\n    </tr>\n    <tr>\n      <th>48</th>\n      <td>9139</td>\n      <td>0.61</td>\n      <td>9</td>\n      <td>9</td>\n      <td>10</td>\n      <td>10</td>\n      <td>linear</td>\n      <td>2</td>\n      <td>9, 9</td>\n    </tr>\n    <tr>\n      <th>49</th>\n      <td>9334</td>\n      <td>0.61</td>\n      <td>9</td>\n      <td>9</td>\n      <td>10</td>\n      <td>10</td>\n      <td>linear</td>\n      <td>2</td>\n      <td>9, 9</td>\n    </tr>\n    <tr>\n      <th>50</th>\n      <td>9531</td>\n      <td>0.61</td>\n      <td>9</td>\n      <td>9</td>\n      <td>10</td>\n      <td>10</td>\n      <td>linear</td>\n      <td>2</td>\n      <td>9, 9</td>\n    </tr>\n    <tr>\n      <th>51</th>\n      <td>9725</td>\n      <td>0.61</td>\n      <td>9</td>\n      <td>9</td>\n      <td>10</td>\n      <td>10</td>\n      <td>linear</td>\n      <td>2</td>\n      <td>9, 9</td>\n    </tr>\n    <tr>\n      <th>52</th>\n      <td>9922</td>\n      <td>0.61</td>\n      <td>9</td>\n      <td>9</td>\n      <td>10</td>\n      <td>10</td>\n      <td>linear</td>\n      <td>2</td>\n      <td>9, 9</td>\n    </tr>\n  </tbody>\n</table>\n<p>20433 rows × 9 columns</p>\n</div>"
     },
     "execution_count": 10,
     "metadata": {},
     "output_type": "execute_result"
    }
   ],
   "source": [
    "results_DPS"
   ]
  },
  {
   "cell_type": "code",
   "execution_count": 11,
   "metadata": {
    "ExecuteTime": {
     "end_time": "2024-07-08T14:55:32.998343800Z",
     "start_time": "2024-07-08T14:55:31.891938400Z"
    }
   },
   "outputs": [],
   "source": [
    "best_scores = defaultdict(dict)\n",
    "for num_units in [3, 10]:\n",
    "    for num_sensors in [3, 10]:\n",
    "        for instance in range(10):\n",
    "            try:\n",
    "                results_subset = results_DPS.query(f'num_units == {num_units} & num_sensors == {num_sensors} & instance == {instance}')\n",
    "                best_scores[num_units, num_sensors, instance] = max(results_subset['intercepted'])\n",
    "            except: \n",
    "                pass"
   ]
  },
  {
   "cell_type": "code",
   "execution_count": 12,
   "outputs": [
    {
     "data": {
      "text/plain": "defaultdict(dict,\n            {(3, 3, 0): 0.63,\n             (3, 3, 1): 0.64,\n             (3, 3, 2): 0.75,\n             (3, 3, 3): 0.17000000000000004,\n             (3, 3, 4): 0.41000000000000003,\n             (3, 3, 5): 0.47,\n             (3, 3, 6): 0.63,\n             (3, 3, 7): 0.51,\n             (3, 3, 8): 0.6599999999999999,\n             (3, 3, 9): 0.74,\n             (3, 10, 0): 0.6799999999999999,\n             (3, 10, 1): 0.65,\n             (3, 10, 2): 0.76,\n             (3, 10, 3): 0.15000000000000002,\n             (3, 10, 4): 0.4,\n             (3, 10, 5): 0.47,\n             (3, 10, 6): 0.6699999999999999,\n             (3, 10, 7): 0.6,\n             (3, 10, 8): 0.64,\n             (3, 10, 9): 0.6699999999999999,\n             (10, 3, 0): 0.99,\n             (10, 3, 1): 1.0,\n             (10, 3, 2): 1.0,\n             (10, 3, 4): 1.0,\n             (10, 3, 5): 1.0,\n             (10, 3, 7): 1.0,\n             (10, 3, 8): 1.0,\n             (10, 3, 9): 0.72,\n             (10, 10, 0): 0.96,\n             (10, 10, 1): 0.95,\n             (10, 10, 2): 0.98,\n             (10, 10, 3): 0.98,\n             (10, 10, 4): 0.99,\n             (10, 10, 5): 1.0,\n             (10, 10, 6): 1.0,\n             (10, 10, 7): 0.99,\n             (10, 10, 8): 1.0,\n             (10, 10, 9): 0.72})"
     },
     "execution_count": 12,
     "metadata": {},
     "output_type": "execute_result"
    }
   ],
   "source": [
    "best_scores"
   ],
   "metadata": {
    "collapsed": false,
    "ExecuteTime": {
     "end_time": "2024-07-08T14:55:33.051593600Z",
     "start_time": "2024-07-08T14:55:32.097064500Z"
    }
   }
  },
  {
   "cell_type": "code",
   "execution_count": 13,
   "metadata": {
    "ExecuteTime": {
     "end_time": "2024-07-08T14:55:34.497528200Z",
     "start_time": "2024-07-08T14:55:32.111180500Z"
    }
   },
   "outputs": [],
   "source": [
    "# scale score to optimum found with MIP solver\n",
    "scaled_result_list = []\n",
    "for index, row in results_DPS.iterrows():\n",
    "    best_score_at_row = best_scores[row['num_units'], row['num_sensors'], row['instance']]\n",
    "    scaled_score = row['intercepted'] / best_score_at_row\n",
    "    scaled_result_list.append(scaled_score)\n",
    "\n",
    "results_DPS['scaled score'] = scaled_result_list"
   ]
  },
  {
   "cell_type": "code",
   "execution_count": 14,
   "metadata": {
    "ExecuteTime": {
     "end_time": "2024-07-08T14:55:34.525565500Z",
     "start_time": "2024-07-08T14:55:34.485513700Z"
    }
   },
   "outputs": [
    {
     "data": {
      "text/plain": "      nfe  intercepted  seed  instance  num_units  num_sensors     rbf  \\\n0     100         0.43     0         0          3            3  linear   \n1   10043         0.62     0         0          3            3  linear   \n2    1169         0.47     0         0          3            3  linear   \n3    1363         0.47     0         0          3            3  linear   \n4    1556         0.47     0         0          3            3  linear   \n..    ...          ...   ...       ...        ...          ...     ...   \n48   9139         0.61     9         9         10           10  linear   \n49   9334         0.61     9         9         10           10  linear   \n50   9531         0.61     9         9         10           10  linear   \n51   9725         0.61     9         9         10           10  linear   \n52   9922         0.61     9         9         10           10  linear   \n\n    numrbf instance/seed  scaled score  \n0        2          0, 0      0.682540  \n1        2          0, 0      0.984127  \n2        2          0, 0      0.746032  \n3        2          0, 0      0.746032  \n4        2          0, 0      0.746032  \n..     ...           ...           ...  \n48       2          9, 9      0.847222  \n49       2          9, 9      0.847222  \n50       2          9, 9      0.847222  \n51       2          9, 9      0.847222  \n52       2          9, 9      0.847222  \n\n[20433 rows x 10 columns]",
      "text/html": "<div>\n<style scoped>\n    .dataframe tbody tr th:only-of-type {\n        vertical-align: middle;\n    }\n\n    .dataframe tbody tr th {\n        vertical-align: top;\n    }\n\n    .dataframe thead th {\n        text-align: right;\n    }\n</style>\n<table border=\"1\" class=\"dataframe\">\n  <thead>\n    <tr style=\"text-align: right;\">\n      <th></th>\n      <th>nfe</th>\n      <th>intercepted</th>\n      <th>seed</th>\n      <th>instance</th>\n      <th>num_units</th>\n      <th>num_sensors</th>\n      <th>rbf</th>\n      <th>numrbf</th>\n      <th>instance/seed</th>\n      <th>scaled score</th>\n    </tr>\n  </thead>\n  <tbody>\n    <tr>\n      <th>0</th>\n      <td>100</td>\n      <td>0.43</td>\n      <td>0</td>\n      <td>0</td>\n      <td>3</td>\n      <td>3</td>\n      <td>linear</td>\n      <td>2</td>\n      <td>0, 0</td>\n      <td>0.682540</td>\n    </tr>\n    <tr>\n      <th>1</th>\n      <td>10043</td>\n      <td>0.62</td>\n      <td>0</td>\n      <td>0</td>\n      <td>3</td>\n      <td>3</td>\n      <td>linear</td>\n      <td>2</td>\n      <td>0, 0</td>\n      <td>0.984127</td>\n    </tr>\n    <tr>\n      <th>2</th>\n      <td>1169</td>\n      <td>0.47</td>\n      <td>0</td>\n      <td>0</td>\n      <td>3</td>\n      <td>3</td>\n      <td>linear</td>\n      <td>2</td>\n      <td>0, 0</td>\n      <td>0.746032</td>\n    </tr>\n    <tr>\n      <th>3</th>\n      <td>1363</td>\n      <td>0.47</td>\n      <td>0</td>\n      <td>0</td>\n      <td>3</td>\n      <td>3</td>\n      <td>linear</td>\n      <td>2</td>\n      <td>0, 0</td>\n      <td>0.746032</td>\n    </tr>\n    <tr>\n      <th>4</th>\n      <td>1556</td>\n      <td>0.47</td>\n      <td>0</td>\n      <td>0</td>\n      <td>3</td>\n      <td>3</td>\n      <td>linear</td>\n      <td>2</td>\n      <td>0, 0</td>\n      <td>0.746032</td>\n    </tr>\n    <tr>\n      <th>...</th>\n      <td>...</td>\n      <td>...</td>\n      <td>...</td>\n      <td>...</td>\n      <td>...</td>\n      <td>...</td>\n      <td>...</td>\n      <td>...</td>\n      <td>...</td>\n      <td>...</td>\n    </tr>\n    <tr>\n      <th>48</th>\n      <td>9139</td>\n      <td>0.61</td>\n      <td>9</td>\n      <td>9</td>\n      <td>10</td>\n      <td>10</td>\n      <td>linear</td>\n      <td>2</td>\n      <td>9, 9</td>\n      <td>0.847222</td>\n    </tr>\n    <tr>\n      <th>49</th>\n      <td>9334</td>\n      <td>0.61</td>\n      <td>9</td>\n      <td>9</td>\n      <td>10</td>\n      <td>10</td>\n      <td>linear</td>\n      <td>2</td>\n      <td>9, 9</td>\n      <td>0.847222</td>\n    </tr>\n    <tr>\n      <th>50</th>\n      <td>9531</td>\n      <td>0.61</td>\n      <td>9</td>\n      <td>9</td>\n      <td>10</td>\n      <td>10</td>\n      <td>linear</td>\n      <td>2</td>\n      <td>9, 9</td>\n      <td>0.847222</td>\n    </tr>\n    <tr>\n      <th>51</th>\n      <td>9725</td>\n      <td>0.61</td>\n      <td>9</td>\n      <td>9</td>\n      <td>10</td>\n      <td>10</td>\n      <td>linear</td>\n      <td>2</td>\n      <td>9, 9</td>\n      <td>0.847222</td>\n    </tr>\n    <tr>\n      <th>52</th>\n      <td>9922</td>\n      <td>0.61</td>\n      <td>9</td>\n      <td>9</td>\n      <td>10</td>\n      <td>10</td>\n      <td>linear</td>\n      <td>2</td>\n      <td>9, 9</td>\n      <td>0.847222</td>\n    </tr>\n  </tbody>\n</table>\n<p>20433 rows × 10 columns</p>\n</div>"
     },
     "execution_count": 14,
     "metadata": {},
     "output_type": "execute_result"
    }
   ],
   "source": [
    "results_DPS"
   ]
  },
  {
   "cell_type": "code",
   "execution_count": 15,
   "outputs": [],
   "source": [
    "results_PTO = pd.DataFrame()\n",
    "for num_units in [3, 10]:\n",
    "    for num_sensors in [3, 10]:\n",
    "        for instance in range(10):\n",
    "            try:\n",
    "                results_PTO_instance = pd.read_csv(f'C:/Users/isvandroffelaa/Documents/model/adaptive_policies/ptreeoptperunit/fugitive_interceptions/results_HPC/city/results_{city}__R100_U{num_units}_numsensors{num_sensors}_instance{instance}.csv')\n",
    "                results_PTO_instance['intercepted'] = 1 - results_PTO_instance['best_f']\n",
    "                \n",
    "                results_PTO=pd.concat([results_PTO, results_PTO_instance], ignore_index=True)\n",
    "            except:\n",
    "                print(num_units, num_sensors, instance)"
   ],
   "metadata": {
    "collapsed": false,
    "ExecuteTime": {
     "end_time": "2024-07-08T14:55:34.929456900Z",
     "start_time": "2024-07-08T14:55:34.502515Z"
    }
   }
  },
  {
   "cell_type": "code",
   "execution_count": 16,
   "outputs": [
    {
     "data": {
      "text/plain": "         nfe  time  best_f                                             best_P  \\\n0        100    11    0.64  [<ptreeopt.tree.PTree object at 0x155517b62970...   \n1        200    21    0.62  [<ptreeopt.tree.PTree object at 0x155516db7430...   \n2        300    31    0.52  [<ptreeopt.tree.PTree object at 0x155516c72c40...   \n3        400    40    0.52  [<ptreeopt.tree.PTree object at 0x155516c72c40...   \n4        500    50    0.52  [<ptreeopt.tree.PTree object at 0x155516c72c40...   \n...      ...   ...     ...                                                ...   \n19995   9600  4335    0.11  [<ptreeopt.tree.PTree object at 0x155517b2e850...   \n19996   9700  4381    0.11  [<ptreeopt.tree.PTree object at 0x155517b2e850...   \n19997   9800  4426    0.11  [<ptreeopt.tree.PTree object at 0x155517b2e850...   \n19998   9900  4473    0.11  [<ptreeopt.tree.PTree object at 0x155517b2e850...   \n19999  10000  4517    0.11  [<ptreeopt.tree.PTree object at 0x155517b2e850...   \n\n       instance  seed  num_units  num_sensors  intercepted  \n0             0     0          3            3         0.36  \n1             0     0          3            3         0.38  \n2             0     0          3            3         0.48  \n3             0     0          3            3         0.48  \n4             0     0          3            3         0.48  \n...         ...   ...        ...          ...          ...  \n19995         9     4         10           10         0.89  \n19996         9     4         10           10         0.89  \n19997         9     4         10           10         0.89  \n19998         9     4         10           10         0.89  \n19999         9     4         10           10         0.89  \n\n[20000 rows x 9 columns]",
      "text/html": "<div>\n<style scoped>\n    .dataframe tbody tr th:only-of-type {\n        vertical-align: middle;\n    }\n\n    .dataframe tbody tr th {\n        vertical-align: top;\n    }\n\n    .dataframe thead th {\n        text-align: right;\n    }\n</style>\n<table border=\"1\" class=\"dataframe\">\n  <thead>\n    <tr style=\"text-align: right;\">\n      <th></th>\n      <th>nfe</th>\n      <th>time</th>\n      <th>best_f</th>\n      <th>best_P</th>\n      <th>instance</th>\n      <th>seed</th>\n      <th>num_units</th>\n      <th>num_sensors</th>\n      <th>intercepted</th>\n    </tr>\n  </thead>\n  <tbody>\n    <tr>\n      <th>0</th>\n      <td>100</td>\n      <td>11</td>\n      <td>0.64</td>\n      <td>[&lt;ptreeopt.tree.PTree object at 0x155517b62970...</td>\n      <td>0</td>\n      <td>0</td>\n      <td>3</td>\n      <td>3</td>\n      <td>0.36</td>\n    </tr>\n    <tr>\n      <th>1</th>\n      <td>200</td>\n      <td>21</td>\n      <td>0.62</td>\n      <td>[&lt;ptreeopt.tree.PTree object at 0x155516db7430...</td>\n      <td>0</td>\n      <td>0</td>\n      <td>3</td>\n      <td>3</td>\n      <td>0.38</td>\n    </tr>\n    <tr>\n      <th>2</th>\n      <td>300</td>\n      <td>31</td>\n      <td>0.52</td>\n      <td>[&lt;ptreeopt.tree.PTree object at 0x155516c72c40...</td>\n      <td>0</td>\n      <td>0</td>\n      <td>3</td>\n      <td>3</td>\n      <td>0.48</td>\n    </tr>\n    <tr>\n      <th>3</th>\n      <td>400</td>\n      <td>40</td>\n      <td>0.52</td>\n      <td>[&lt;ptreeopt.tree.PTree object at 0x155516c72c40...</td>\n      <td>0</td>\n      <td>0</td>\n      <td>3</td>\n      <td>3</td>\n      <td>0.48</td>\n    </tr>\n    <tr>\n      <th>4</th>\n      <td>500</td>\n      <td>50</td>\n      <td>0.52</td>\n      <td>[&lt;ptreeopt.tree.PTree object at 0x155516c72c40...</td>\n      <td>0</td>\n      <td>0</td>\n      <td>3</td>\n      <td>3</td>\n      <td>0.48</td>\n    </tr>\n    <tr>\n      <th>...</th>\n      <td>...</td>\n      <td>...</td>\n      <td>...</td>\n      <td>...</td>\n      <td>...</td>\n      <td>...</td>\n      <td>...</td>\n      <td>...</td>\n      <td>...</td>\n    </tr>\n    <tr>\n      <th>19995</th>\n      <td>9600</td>\n      <td>4335</td>\n      <td>0.11</td>\n      <td>[&lt;ptreeopt.tree.PTree object at 0x155517b2e850...</td>\n      <td>9</td>\n      <td>4</td>\n      <td>10</td>\n      <td>10</td>\n      <td>0.89</td>\n    </tr>\n    <tr>\n      <th>19996</th>\n      <td>9700</td>\n      <td>4381</td>\n      <td>0.11</td>\n      <td>[&lt;ptreeopt.tree.PTree object at 0x155517b2e850...</td>\n      <td>9</td>\n      <td>4</td>\n      <td>10</td>\n      <td>10</td>\n      <td>0.89</td>\n    </tr>\n    <tr>\n      <th>19997</th>\n      <td>9800</td>\n      <td>4426</td>\n      <td>0.11</td>\n      <td>[&lt;ptreeopt.tree.PTree object at 0x155517b2e850...</td>\n      <td>9</td>\n      <td>4</td>\n      <td>10</td>\n      <td>10</td>\n      <td>0.89</td>\n    </tr>\n    <tr>\n      <th>19998</th>\n      <td>9900</td>\n      <td>4473</td>\n      <td>0.11</td>\n      <td>[&lt;ptreeopt.tree.PTree object at 0x155517b2e850...</td>\n      <td>9</td>\n      <td>4</td>\n      <td>10</td>\n      <td>10</td>\n      <td>0.89</td>\n    </tr>\n    <tr>\n      <th>19999</th>\n      <td>10000</td>\n      <td>4517</td>\n      <td>0.11</td>\n      <td>[&lt;ptreeopt.tree.PTree object at 0x155517b2e850...</td>\n      <td>9</td>\n      <td>4</td>\n      <td>10</td>\n      <td>10</td>\n      <td>0.89</td>\n    </tr>\n  </tbody>\n</table>\n<p>20000 rows × 9 columns</p>\n</div>"
     },
     "execution_count": 16,
     "metadata": {},
     "output_type": "execute_result"
    }
   ],
   "source": [
    "results_PTO"
   ],
   "metadata": {
    "collapsed": false,
    "ExecuteTime": {
     "end_time": "2024-07-08T14:55:35.026446600Z",
     "start_time": "2024-07-08T14:55:34.931451600Z"
    }
   }
  },
  {
   "cell_type": "markdown",
   "source": [
    "# Comparison boxplots"
   ],
   "metadata": {
    "collapsed": false
   }
  },
  {
   "cell_type": "code",
   "execution_count": 17,
   "outputs": [],
   "source": [
    "results_best_DPS = pd.DataFrame()\n",
    "for num_units in [3, 10]:\n",
    "    for num_sensors in [3, 10]:\n",
    "        for instance in range(10):\n",
    "            try:\n",
    "                results_subset = results_DPS.query(f'num_units == {num_units} & num_sensors == {num_sensors} & instance == {instance} & rbf == \"{rbf}\" & numrbf == {numrbf}')\n",
    "                df_seed = pd.DataFrame()\n",
    "                df_seed['num_units'] = [num_units]\n",
    "                df_seed['num_sensors'] = [num_sensors]\n",
    "                df_seed['instance'] = [instance]\n",
    "                df_seed['best_score'] = [max(results_subset['intercepted'])]\n",
    "                \n",
    "                results_best_DPS = pd.concat([results_best_DPS, df_seed], ignore_index=True)\n",
    "            except:\n",
    "                pass  # result not finished yet\n",
    "results_best_DPS['approach'] = 'DPS'"
   ],
   "metadata": {
    "collapsed": false,
    "ExecuteTime": {
     "end_time": "2024-07-08T14:55:35.428615300Z",
     "start_time": "2024-07-08T14:55:34.954389700Z"
    }
   }
  },
  {
   "cell_type": "code",
   "execution_count": 18,
   "outputs": [
    {
     "data": {
      "text/plain": "    num_units  num_sensors  instance  best_score approach\n0           3            3         0        0.63      DPS\n1           3            3         1        0.64      DPS\n2           3            3         2        0.75      DPS\n3           3            3         3        0.17      DPS\n4           3            3         4        0.41      DPS\n5           3            3         5        0.47      DPS\n6           3            3         6        0.63      DPS\n7           3            3         7        0.51      DPS\n8           3            3         8        0.66      DPS\n9           3            3         9        0.74      DPS\n10          3           10         0        0.68      DPS\n11          3           10         1        0.65      DPS\n12          3           10         2        0.76      DPS\n13          3           10         3        0.15      DPS\n14          3           10         4        0.40      DPS\n15          3           10         5        0.47      DPS\n16          3           10         6        0.67      DPS\n17          3           10         7        0.60      DPS\n18          3           10         8        0.64      DPS\n19          3           10         9        0.67      DPS\n20         10            3         0        0.99      DPS\n21         10            3         1        1.00      DPS\n22         10            3         2        1.00      DPS\n23         10            3         4        1.00      DPS\n24         10            3         5        1.00      DPS\n25         10            3         7        1.00      DPS\n26         10            3         8        1.00      DPS\n27         10            3         9        0.72      DPS\n28         10           10         0        0.96      DPS\n29         10           10         1        0.95      DPS\n30         10           10         2        0.98      DPS\n31         10           10         3        0.98      DPS\n32         10           10         4        0.99      DPS\n33         10           10         5        1.00      DPS\n34         10           10         6        1.00      DPS\n35         10           10         7        0.99      DPS\n36         10           10         8        1.00      DPS\n37         10           10         9        0.72      DPS",
      "text/html": "<div>\n<style scoped>\n    .dataframe tbody tr th:only-of-type {\n        vertical-align: middle;\n    }\n\n    .dataframe tbody tr th {\n        vertical-align: top;\n    }\n\n    .dataframe thead th {\n        text-align: right;\n    }\n</style>\n<table border=\"1\" class=\"dataframe\">\n  <thead>\n    <tr style=\"text-align: right;\">\n      <th></th>\n      <th>num_units</th>\n      <th>num_sensors</th>\n      <th>instance</th>\n      <th>best_score</th>\n      <th>approach</th>\n    </tr>\n  </thead>\n  <tbody>\n    <tr>\n      <th>0</th>\n      <td>3</td>\n      <td>3</td>\n      <td>0</td>\n      <td>0.63</td>\n      <td>DPS</td>\n    </tr>\n    <tr>\n      <th>1</th>\n      <td>3</td>\n      <td>3</td>\n      <td>1</td>\n      <td>0.64</td>\n      <td>DPS</td>\n    </tr>\n    <tr>\n      <th>2</th>\n      <td>3</td>\n      <td>3</td>\n      <td>2</td>\n      <td>0.75</td>\n      <td>DPS</td>\n    </tr>\n    <tr>\n      <th>3</th>\n      <td>3</td>\n      <td>3</td>\n      <td>3</td>\n      <td>0.17</td>\n      <td>DPS</td>\n    </tr>\n    <tr>\n      <th>4</th>\n      <td>3</td>\n      <td>3</td>\n      <td>4</td>\n      <td>0.41</td>\n      <td>DPS</td>\n    </tr>\n    <tr>\n      <th>5</th>\n      <td>3</td>\n      <td>3</td>\n      <td>5</td>\n      <td>0.47</td>\n      <td>DPS</td>\n    </tr>\n    <tr>\n      <th>6</th>\n      <td>3</td>\n      <td>3</td>\n      <td>6</td>\n      <td>0.63</td>\n      <td>DPS</td>\n    </tr>\n    <tr>\n      <th>7</th>\n      <td>3</td>\n      <td>3</td>\n      <td>7</td>\n      <td>0.51</td>\n      <td>DPS</td>\n    </tr>\n    <tr>\n      <th>8</th>\n      <td>3</td>\n      <td>3</td>\n      <td>8</td>\n      <td>0.66</td>\n      <td>DPS</td>\n    </tr>\n    <tr>\n      <th>9</th>\n      <td>3</td>\n      <td>3</td>\n      <td>9</td>\n      <td>0.74</td>\n      <td>DPS</td>\n    </tr>\n    <tr>\n      <th>10</th>\n      <td>3</td>\n      <td>10</td>\n      <td>0</td>\n      <td>0.68</td>\n      <td>DPS</td>\n    </tr>\n    <tr>\n      <th>11</th>\n      <td>3</td>\n      <td>10</td>\n      <td>1</td>\n      <td>0.65</td>\n      <td>DPS</td>\n    </tr>\n    <tr>\n      <th>12</th>\n      <td>3</td>\n      <td>10</td>\n      <td>2</td>\n      <td>0.76</td>\n      <td>DPS</td>\n    </tr>\n    <tr>\n      <th>13</th>\n      <td>3</td>\n      <td>10</td>\n      <td>3</td>\n      <td>0.15</td>\n      <td>DPS</td>\n    </tr>\n    <tr>\n      <th>14</th>\n      <td>3</td>\n      <td>10</td>\n      <td>4</td>\n      <td>0.40</td>\n      <td>DPS</td>\n    </tr>\n    <tr>\n      <th>15</th>\n      <td>3</td>\n      <td>10</td>\n      <td>5</td>\n      <td>0.47</td>\n      <td>DPS</td>\n    </tr>\n    <tr>\n      <th>16</th>\n      <td>3</td>\n      <td>10</td>\n      <td>6</td>\n      <td>0.67</td>\n      <td>DPS</td>\n    </tr>\n    <tr>\n      <th>17</th>\n      <td>3</td>\n      <td>10</td>\n      <td>7</td>\n      <td>0.60</td>\n      <td>DPS</td>\n    </tr>\n    <tr>\n      <th>18</th>\n      <td>3</td>\n      <td>10</td>\n      <td>8</td>\n      <td>0.64</td>\n      <td>DPS</td>\n    </tr>\n    <tr>\n      <th>19</th>\n      <td>3</td>\n      <td>10</td>\n      <td>9</td>\n      <td>0.67</td>\n      <td>DPS</td>\n    </tr>\n    <tr>\n      <th>20</th>\n      <td>10</td>\n      <td>3</td>\n      <td>0</td>\n      <td>0.99</td>\n      <td>DPS</td>\n    </tr>\n    <tr>\n      <th>21</th>\n      <td>10</td>\n      <td>3</td>\n      <td>1</td>\n      <td>1.00</td>\n      <td>DPS</td>\n    </tr>\n    <tr>\n      <th>22</th>\n      <td>10</td>\n      <td>3</td>\n      <td>2</td>\n      <td>1.00</td>\n      <td>DPS</td>\n    </tr>\n    <tr>\n      <th>23</th>\n      <td>10</td>\n      <td>3</td>\n      <td>4</td>\n      <td>1.00</td>\n      <td>DPS</td>\n    </tr>\n    <tr>\n      <th>24</th>\n      <td>10</td>\n      <td>3</td>\n      <td>5</td>\n      <td>1.00</td>\n      <td>DPS</td>\n    </tr>\n    <tr>\n      <th>25</th>\n      <td>10</td>\n      <td>3</td>\n      <td>7</td>\n      <td>1.00</td>\n      <td>DPS</td>\n    </tr>\n    <tr>\n      <th>26</th>\n      <td>10</td>\n      <td>3</td>\n      <td>8</td>\n      <td>1.00</td>\n      <td>DPS</td>\n    </tr>\n    <tr>\n      <th>27</th>\n      <td>10</td>\n      <td>3</td>\n      <td>9</td>\n      <td>0.72</td>\n      <td>DPS</td>\n    </tr>\n    <tr>\n      <th>28</th>\n      <td>10</td>\n      <td>10</td>\n      <td>0</td>\n      <td>0.96</td>\n      <td>DPS</td>\n    </tr>\n    <tr>\n      <th>29</th>\n      <td>10</td>\n      <td>10</td>\n      <td>1</td>\n      <td>0.95</td>\n      <td>DPS</td>\n    </tr>\n    <tr>\n      <th>30</th>\n      <td>10</td>\n      <td>10</td>\n      <td>2</td>\n      <td>0.98</td>\n      <td>DPS</td>\n    </tr>\n    <tr>\n      <th>31</th>\n      <td>10</td>\n      <td>10</td>\n      <td>3</td>\n      <td>0.98</td>\n      <td>DPS</td>\n    </tr>\n    <tr>\n      <th>32</th>\n      <td>10</td>\n      <td>10</td>\n      <td>4</td>\n      <td>0.99</td>\n      <td>DPS</td>\n    </tr>\n    <tr>\n      <th>33</th>\n      <td>10</td>\n      <td>10</td>\n      <td>5</td>\n      <td>1.00</td>\n      <td>DPS</td>\n    </tr>\n    <tr>\n      <th>34</th>\n      <td>10</td>\n      <td>10</td>\n      <td>6</td>\n      <td>1.00</td>\n      <td>DPS</td>\n    </tr>\n    <tr>\n      <th>35</th>\n      <td>10</td>\n      <td>10</td>\n      <td>7</td>\n      <td>0.99</td>\n      <td>DPS</td>\n    </tr>\n    <tr>\n      <th>36</th>\n      <td>10</td>\n      <td>10</td>\n      <td>8</td>\n      <td>1.00</td>\n      <td>DPS</td>\n    </tr>\n    <tr>\n      <th>37</th>\n      <td>10</td>\n      <td>10</td>\n      <td>9</td>\n      <td>0.72</td>\n      <td>DPS</td>\n    </tr>\n  </tbody>\n</table>\n</div>"
     },
     "execution_count": 18,
     "metadata": {},
     "output_type": "execute_result"
    }
   ],
   "source": [
    "results_best_DPS"
   ],
   "metadata": {
    "collapsed": false,
    "ExecuteTime": {
     "end_time": "2024-07-08T14:55:35.461734Z",
     "start_time": "2024-07-08T14:55:35.429613500Z"
    }
   }
  },
  {
   "cell_type": "code",
   "execution_count": 19,
   "outputs": [],
   "source": [
    "results_best_PTO = pd.DataFrame()\n",
    "for num_units in [3, 10]:\n",
    "    for num_sensors in [3, 10]:\n",
    "        for instance in range(10):\n",
    "            try:                \n",
    "                results_subset = results_PTO.query(f'num_units == {num_units} & num_sensors == {num_sensors} & instance == {instance}')\n",
    "                df_seed = pd.DataFrame()\n",
    "                df_seed['num_units'] = [num_units]\n",
    "                df_seed['num_sensors'] = [num_sensors]\n",
    "                df_seed['instance'] = [instance]\n",
    "                df_seed['best_score'] = [max(results_subset['intercepted'])]\n",
    "                \n",
    "                results_best_PTO = pd.concat([results_best_PTO, df_seed], ignore_index=True)\n",
    "            except:\n",
    "                print(num_units, num_sensors, instance)\n",
    "results_best_PTO['approach'] = 'PTO'"
   ],
   "metadata": {
    "collapsed": false,
    "ExecuteTime": {
     "end_time": "2024-07-08T14:55:36.113831400Z",
     "start_time": "2024-07-08T14:55:35.452660900Z"
    }
   }
  },
  {
   "cell_type": "code",
   "execution_count": 20,
   "outputs": [
    {
     "data": {
      "text/plain": "    num_units  num_sensors  instance  best_score approach\n0           3            3         0        0.58      PTO\n1           3            3         1        0.56      PTO\n2           3            3         2        0.74      PTO\n3           3            3         3        0.18      PTO\n4           3            3         4        0.41      PTO\n5           3            3         5        0.47      PTO\n6           3            3         6        0.57      PTO\n7           3            3         7        0.49      PTO\n8           3            3         8        0.65      PTO\n9           3            3         9        0.68      PTO\n10          3           10         0        0.58      PTO\n11          3           10         1        0.59      PTO\n12          3           10         2        0.74      PTO\n13          3           10         3        0.18      PTO\n14          3           10         4        0.43      PTO\n15          3           10         5        0.47      PTO\n16          3           10         6        0.57      PTO\n17          3           10         7        0.55      PTO\n18          3           10         8        0.64      PTO\n19          3           10         9        0.67      PTO\n20         10            3         0        0.95      PTO\n21         10            3         1        0.91      PTO\n22         10            3         2        0.92      PTO\n23         10            3         3        0.90      PTO\n24         10            3         4        0.90      PTO\n25         10            3         5        0.98      PTO\n26         10            3         6        0.98      PTO\n27         10            3         7        0.90      PTO\n28         10            3         8        0.89      PTO\n29         10            3         9        0.68      PTO\n30         10           10         0        0.89      PTO\n31         10           10         1        0.90      PTO\n32         10           10         2        0.96      PTO\n33         10           10         3        0.92      PTO\n34         10           10         4        0.91      PTO\n35         10           10         5        0.91      PTO\n36         10           10         6        0.99      PTO\n37         10           10         7        0.97      PTO\n38         10           10         8        0.97      PTO\n39         10           10         9        0.89      PTO",
      "text/html": "<div>\n<style scoped>\n    .dataframe tbody tr th:only-of-type {\n        vertical-align: middle;\n    }\n\n    .dataframe tbody tr th {\n        vertical-align: top;\n    }\n\n    .dataframe thead th {\n        text-align: right;\n    }\n</style>\n<table border=\"1\" class=\"dataframe\">\n  <thead>\n    <tr style=\"text-align: right;\">\n      <th></th>\n      <th>num_units</th>\n      <th>num_sensors</th>\n      <th>instance</th>\n      <th>best_score</th>\n      <th>approach</th>\n    </tr>\n  </thead>\n  <tbody>\n    <tr>\n      <th>0</th>\n      <td>3</td>\n      <td>3</td>\n      <td>0</td>\n      <td>0.58</td>\n      <td>PTO</td>\n    </tr>\n    <tr>\n      <th>1</th>\n      <td>3</td>\n      <td>3</td>\n      <td>1</td>\n      <td>0.56</td>\n      <td>PTO</td>\n    </tr>\n    <tr>\n      <th>2</th>\n      <td>3</td>\n      <td>3</td>\n      <td>2</td>\n      <td>0.74</td>\n      <td>PTO</td>\n    </tr>\n    <tr>\n      <th>3</th>\n      <td>3</td>\n      <td>3</td>\n      <td>3</td>\n      <td>0.18</td>\n      <td>PTO</td>\n    </tr>\n    <tr>\n      <th>4</th>\n      <td>3</td>\n      <td>3</td>\n      <td>4</td>\n      <td>0.41</td>\n      <td>PTO</td>\n    </tr>\n    <tr>\n      <th>5</th>\n      <td>3</td>\n      <td>3</td>\n      <td>5</td>\n      <td>0.47</td>\n      <td>PTO</td>\n    </tr>\n    <tr>\n      <th>6</th>\n      <td>3</td>\n      <td>3</td>\n      <td>6</td>\n      <td>0.57</td>\n      <td>PTO</td>\n    </tr>\n    <tr>\n      <th>7</th>\n      <td>3</td>\n      <td>3</td>\n      <td>7</td>\n      <td>0.49</td>\n      <td>PTO</td>\n    </tr>\n    <tr>\n      <th>8</th>\n      <td>3</td>\n      <td>3</td>\n      <td>8</td>\n      <td>0.65</td>\n      <td>PTO</td>\n    </tr>\n    <tr>\n      <th>9</th>\n      <td>3</td>\n      <td>3</td>\n      <td>9</td>\n      <td>0.68</td>\n      <td>PTO</td>\n    </tr>\n    <tr>\n      <th>10</th>\n      <td>3</td>\n      <td>10</td>\n      <td>0</td>\n      <td>0.58</td>\n      <td>PTO</td>\n    </tr>\n    <tr>\n      <th>11</th>\n      <td>3</td>\n      <td>10</td>\n      <td>1</td>\n      <td>0.59</td>\n      <td>PTO</td>\n    </tr>\n    <tr>\n      <th>12</th>\n      <td>3</td>\n      <td>10</td>\n      <td>2</td>\n      <td>0.74</td>\n      <td>PTO</td>\n    </tr>\n    <tr>\n      <th>13</th>\n      <td>3</td>\n      <td>10</td>\n      <td>3</td>\n      <td>0.18</td>\n      <td>PTO</td>\n    </tr>\n    <tr>\n      <th>14</th>\n      <td>3</td>\n      <td>10</td>\n      <td>4</td>\n      <td>0.43</td>\n      <td>PTO</td>\n    </tr>\n    <tr>\n      <th>15</th>\n      <td>3</td>\n      <td>10</td>\n      <td>5</td>\n      <td>0.47</td>\n      <td>PTO</td>\n    </tr>\n    <tr>\n      <th>16</th>\n      <td>3</td>\n      <td>10</td>\n      <td>6</td>\n      <td>0.57</td>\n      <td>PTO</td>\n    </tr>\n    <tr>\n      <th>17</th>\n      <td>3</td>\n      <td>10</td>\n      <td>7</td>\n      <td>0.55</td>\n      <td>PTO</td>\n    </tr>\n    <tr>\n      <th>18</th>\n      <td>3</td>\n      <td>10</td>\n      <td>8</td>\n      <td>0.64</td>\n      <td>PTO</td>\n    </tr>\n    <tr>\n      <th>19</th>\n      <td>3</td>\n      <td>10</td>\n      <td>9</td>\n      <td>0.67</td>\n      <td>PTO</td>\n    </tr>\n    <tr>\n      <th>20</th>\n      <td>10</td>\n      <td>3</td>\n      <td>0</td>\n      <td>0.95</td>\n      <td>PTO</td>\n    </tr>\n    <tr>\n      <th>21</th>\n      <td>10</td>\n      <td>3</td>\n      <td>1</td>\n      <td>0.91</td>\n      <td>PTO</td>\n    </tr>\n    <tr>\n      <th>22</th>\n      <td>10</td>\n      <td>3</td>\n      <td>2</td>\n      <td>0.92</td>\n      <td>PTO</td>\n    </tr>\n    <tr>\n      <th>23</th>\n      <td>10</td>\n      <td>3</td>\n      <td>3</td>\n      <td>0.90</td>\n      <td>PTO</td>\n    </tr>\n    <tr>\n      <th>24</th>\n      <td>10</td>\n      <td>3</td>\n      <td>4</td>\n      <td>0.90</td>\n      <td>PTO</td>\n    </tr>\n    <tr>\n      <th>25</th>\n      <td>10</td>\n      <td>3</td>\n      <td>5</td>\n      <td>0.98</td>\n      <td>PTO</td>\n    </tr>\n    <tr>\n      <th>26</th>\n      <td>10</td>\n      <td>3</td>\n      <td>6</td>\n      <td>0.98</td>\n      <td>PTO</td>\n    </tr>\n    <tr>\n      <th>27</th>\n      <td>10</td>\n      <td>3</td>\n      <td>7</td>\n      <td>0.90</td>\n      <td>PTO</td>\n    </tr>\n    <tr>\n      <th>28</th>\n      <td>10</td>\n      <td>3</td>\n      <td>8</td>\n      <td>0.89</td>\n      <td>PTO</td>\n    </tr>\n    <tr>\n      <th>29</th>\n      <td>10</td>\n      <td>3</td>\n      <td>9</td>\n      <td>0.68</td>\n      <td>PTO</td>\n    </tr>\n    <tr>\n      <th>30</th>\n      <td>10</td>\n      <td>10</td>\n      <td>0</td>\n      <td>0.89</td>\n      <td>PTO</td>\n    </tr>\n    <tr>\n      <th>31</th>\n      <td>10</td>\n      <td>10</td>\n      <td>1</td>\n      <td>0.90</td>\n      <td>PTO</td>\n    </tr>\n    <tr>\n      <th>32</th>\n      <td>10</td>\n      <td>10</td>\n      <td>2</td>\n      <td>0.96</td>\n      <td>PTO</td>\n    </tr>\n    <tr>\n      <th>33</th>\n      <td>10</td>\n      <td>10</td>\n      <td>3</td>\n      <td>0.92</td>\n      <td>PTO</td>\n    </tr>\n    <tr>\n      <th>34</th>\n      <td>10</td>\n      <td>10</td>\n      <td>4</td>\n      <td>0.91</td>\n      <td>PTO</td>\n    </tr>\n    <tr>\n      <th>35</th>\n      <td>10</td>\n      <td>10</td>\n      <td>5</td>\n      <td>0.91</td>\n      <td>PTO</td>\n    </tr>\n    <tr>\n      <th>36</th>\n      <td>10</td>\n      <td>10</td>\n      <td>6</td>\n      <td>0.99</td>\n      <td>PTO</td>\n    </tr>\n    <tr>\n      <th>37</th>\n      <td>10</td>\n      <td>10</td>\n      <td>7</td>\n      <td>0.97</td>\n      <td>PTO</td>\n    </tr>\n    <tr>\n      <th>38</th>\n      <td>10</td>\n      <td>10</td>\n      <td>8</td>\n      <td>0.97</td>\n      <td>PTO</td>\n    </tr>\n    <tr>\n      <th>39</th>\n      <td>10</td>\n      <td>10</td>\n      <td>9</td>\n      <td>0.89</td>\n      <td>PTO</td>\n    </tr>\n  </tbody>\n</table>\n</div>"
     },
     "execution_count": 20,
     "metadata": {},
     "output_type": "execute_result"
    }
   ],
   "source": [
    "results_best_PTO"
   ],
   "metadata": {
    "collapsed": false,
    "ExecuteTime": {
     "end_time": "2024-07-08T14:55:36.114831100Z",
     "start_time": "2024-07-08T14:55:35.801347800Z"
    }
   }
  },
  {
   "cell_type": "code",
   "execution_count": 21,
   "outputs": [],
   "source": [
    "results_best_oneshot = pd.DataFrame()\n",
    "for key, instance_score in results_oneshot.items():\n",
    "    for instance, score in instance_score.items():\n",
    "        df_seed = pd.DataFrame()\n",
    "        df_seed['num_units'] = [key[0]]\n",
    "        df_seed['num_sensors'] = [key[1]]\n",
    "        df_seed['instance'] = [instance]\n",
    "        df_seed['best_score'] = [score]\n",
    "    \n",
    "        results_best_oneshot = pd.concat([results_best_oneshot, df_seed], ignore_index=True)\n",
    "results_best_oneshot['approach'] = 'one-shot'"
   ],
   "metadata": {
    "collapsed": false,
    "ExecuteTime": {
     "end_time": "2024-07-08T14:55:36.114831100Z",
     "start_time": "2024-07-08T14:55:35.824359200Z"
    }
   }
  },
  {
   "cell_type": "code",
   "execution_count": 22,
   "outputs": [],
   "source": [
    "results_best_PRO = pd.DataFrame()\n",
    "for num_units in [3, 10]:\n",
    "    for num_sensors in [3, 10]:\n",
    "        for instance in range(10):\n",
    "            try:\n",
    "                results_subset = results_reopt.query(f'num_units == {num_units} & num_sensors == {num_sensors} & instance == {instance}')\n",
    "                df_seed = pd.DataFrame()\n",
    "                df_seed['num_units'] = [num_units]\n",
    "                df_seed['num_sensors'] = [num_sensors]\n",
    "                df_seed['instance'] = [instance]\n",
    "                df_seed['best_score'] = [max(results_subset['pct_intercepted'])]\n",
    "                \n",
    "                results_best_PRO = pd.concat([results_best_PRO, df_seed], ignore_index=True)\n",
    "            except: \n",
    "                print(num_units, num_sensors, instance)\n",
    "                pass\n",
    "results_best_PRO['approach'] = 'PRO'"
   ],
   "metadata": {
    "collapsed": false,
    "ExecuteTime": {
     "end_time": "2024-07-08T14:55:36.238196900Z",
     "start_time": "2024-07-08T14:55:35.978573400Z"
    }
   }
  },
  {
   "cell_type": "code",
   "execution_count": 23,
   "outputs": [],
   "source": [
    "results = pd.concat([results_best_oneshot, results_best_PRO, results_best_PTO, results_best_DPS])"
   ],
   "metadata": {
    "collapsed": false,
    "ExecuteTime": {
     "end_time": "2024-07-08T14:55:36.265317200Z",
     "start_time": "2024-07-08T14:55:36.183082Z"
    }
   }
  },
  {
   "cell_type": "code",
   "execution_count": 24,
   "outputs": [
    {
     "data": {
      "text/plain": "    num_units  num_sensors  instance  best_score  approach\n0           3            3         0        0.57  one-shot\n1           3            3         1        0.59  one-shot\n2           3            3         2        0.74  one-shot\n3           3            3         3        0.18  one-shot\n4           3            3         4        0.43  one-shot\n..        ...          ...       ...         ...       ...\n33         10           10         5        1.00       DPS\n34         10           10         6        1.00       DPS\n35         10           10         7        0.99       DPS\n36         10           10         8        1.00       DPS\n37         10           10         9        0.72       DPS\n\n[158 rows x 5 columns]",
      "text/html": "<div>\n<style scoped>\n    .dataframe tbody tr th:only-of-type {\n        vertical-align: middle;\n    }\n\n    .dataframe tbody tr th {\n        vertical-align: top;\n    }\n\n    .dataframe thead th {\n        text-align: right;\n    }\n</style>\n<table border=\"1\" class=\"dataframe\">\n  <thead>\n    <tr style=\"text-align: right;\">\n      <th></th>\n      <th>num_units</th>\n      <th>num_sensors</th>\n      <th>instance</th>\n      <th>best_score</th>\n      <th>approach</th>\n    </tr>\n  </thead>\n  <tbody>\n    <tr>\n      <th>0</th>\n      <td>3</td>\n      <td>3</td>\n      <td>0</td>\n      <td>0.57</td>\n      <td>one-shot</td>\n    </tr>\n    <tr>\n      <th>1</th>\n      <td>3</td>\n      <td>3</td>\n      <td>1</td>\n      <td>0.59</td>\n      <td>one-shot</td>\n    </tr>\n    <tr>\n      <th>2</th>\n      <td>3</td>\n      <td>3</td>\n      <td>2</td>\n      <td>0.74</td>\n      <td>one-shot</td>\n    </tr>\n    <tr>\n      <th>3</th>\n      <td>3</td>\n      <td>3</td>\n      <td>3</td>\n      <td>0.18</td>\n      <td>one-shot</td>\n    </tr>\n    <tr>\n      <th>4</th>\n      <td>3</td>\n      <td>3</td>\n      <td>4</td>\n      <td>0.43</td>\n      <td>one-shot</td>\n    </tr>\n    <tr>\n      <th>...</th>\n      <td>...</td>\n      <td>...</td>\n      <td>...</td>\n      <td>...</td>\n      <td>...</td>\n    </tr>\n    <tr>\n      <th>33</th>\n      <td>10</td>\n      <td>10</td>\n      <td>5</td>\n      <td>1.00</td>\n      <td>DPS</td>\n    </tr>\n    <tr>\n      <th>34</th>\n      <td>10</td>\n      <td>10</td>\n      <td>6</td>\n      <td>1.00</td>\n      <td>DPS</td>\n    </tr>\n    <tr>\n      <th>35</th>\n      <td>10</td>\n      <td>10</td>\n      <td>7</td>\n      <td>0.99</td>\n      <td>DPS</td>\n    </tr>\n    <tr>\n      <th>36</th>\n      <td>10</td>\n      <td>10</td>\n      <td>8</td>\n      <td>1.00</td>\n      <td>DPS</td>\n    </tr>\n    <tr>\n      <th>37</th>\n      <td>10</td>\n      <td>10</td>\n      <td>9</td>\n      <td>0.72</td>\n      <td>DPS</td>\n    </tr>\n  </tbody>\n</table>\n<p>158 rows × 5 columns</p>\n</div>"
     },
     "execution_count": 24,
     "metadata": {},
     "output_type": "execute_result"
    }
   ],
   "source": [
    "results"
   ],
   "metadata": {
    "collapsed": false,
    "ExecuteTime": {
     "end_time": "2024-07-08T14:55:36.266413800Z",
     "start_time": "2024-07-08T14:55:36.190088Z"
    }
   }
  },
  {
   "cell_type": "code",
   "execution_count": 25,
   "outputs": [],
   "source": [
    "# scale to best score across approaches\n",
    "best_score_across_approaches = dict()\n",
    "for num_units in [3, 10]:\n",
    "    for num_sensors in [3, 10]:\n",
    "        for instance in range(10):\n",
    "            results_subset = results.query(f'num_units == {num_units} & num_sensors == {num_sensors} & instance == {instance}')\n",
    "            best_score_across_approaches[num_units, num_sensors, instance] = max(results_subset['best_score'])"
   ],
   "metadata": {
    "collapsed": false,
    "ExecuteTime": {
     "end_time": "2024-07-08T14:55:36.391718800Z",
     "start_time": "2024-07-08T14:55:36.205136400Z"
    }
   }
  },
  {
   "cell_type": "code",
   "execution_count": 26,
   "outputs": [
    {
     "data": {
      "text/plain": "{(3, 3, 0): 0.63,\n (3, 3, 1): 0.64,\n (3, 3, 2): 0.75,\n (3, 3, 3): 0.18000000000000005,\n (3, 3, 4): 0.43,\n (3, 3, 5): 0.47,\n (3, 3, 6): 0.63,\n (3, 3, 7): 0.51,\n (3, 3, 8): 0.68,\n (3, 3, 9): 0.74,\n (3, 10, 0): 0.6799999999999999,\n (3, 10, 1): 0.65,\n (3, 10, 2): 0.76,\n (3, 10, 3): 0.18000000000000005,\n (3, 10, 4): 0.48,\n (3, 10, 5): 0.47,\n (3, 10, 6): 0.6699999999999999,\n (3, 10, 7): 0.62,\n (3, 10, 8): 0.64,\n (3, 10, 9): 0.6699999999999999,\n (10, 3, 0): 0.99,\n (10, 3, 1): 1.0,\n (10, 3, 2): 1.0,\n (10, 3, 3): 0.99,\n (10, 3, 4): 1.0,\n (10, 3, 5): 1.0,\n (10, 3, 6): 0.98,\n (10, 3, 7): 1.0,\n (10, 3, 8): 1.0,\n (10, 3, 9): 0.72,\n (10, 10, 0): 0.97,\n (10, 10, 1): 0.99,\n (10, 10, 2): 1.0,\n (10, 10, 3): 1.0,\n (10, 10, 4): 0.99,\n (10, 10, 5): 1.0,\n (10, 10, 6): 1.0,\n (10, 10, 7): 0.99,\n (10, 10, 8): 1.0,\n (10, 10, 9): 0.89}"
     },
     "execution_count": 26,
     "metadata": {},
     "output_type": "execute_result"
    }
   ],
   "source": [
    "best_score_across_approaches"
   ],
   "metadata": {
    "collapsed": false,
    "ExecuteTime": {
     "end_time": "2024-07-08T14:55:36.397702800Z",
     "start_time": "2024-07-08T14:55:36.297668900Z"
    }
   }
  },
  {
   "cell_type": "code",
   "execution_count": 98,
   "outputs": [
    {
     "data": {
      "text/plain": "    num_units  num_sensors  instance  best_score  approach\n0           3            3         0        0.75  one-shot\n1           3            3         1        0.62  one-shot\n2           3            3         2        0.79  one-shot\n3           3            3         3        0.86  one-shot\n4           3            3         4        0.57  one-shot\n..        ...          ...       ...         ...       ...\n33         10           10         4        0.98       DPS\n34         10           10         6        1.00       DPS\n35         10           10         7        1.00       DPS\n36         10           10         8        1.00       DPS\n37         10           10         9        0.80       DPS\n\n[140 rows x 5 columns]",
      "text/html": "<div>\n<style scoped>\n    .dataframe tbody tr th:only-of-type {\n        vertical-align: middle;\n    }\n\n    .dataframe tbody tr th {\n        vertical-align: top;\n    }\n\n    .dataframe thead th {\n        text-align: right;\n    }\n</style>\n<table border=\"1\" class=\"dataframe\">\n  <thead>\n    <tr style=\"text-align: right;\">\n      <th></th>\n      <th>num_units</th>\n      <th>num_sensors</th>\n      <th>instance</th>\n      <th>best_score</th>\n      <th>approach</th>\n    </tr>\n  </thead>\n  <tbody>\n    <tr>\n      <th>0</th>\n      <td>3</td>\n      <td>3</td>\n      <td>0</td>\n      <td>0.75</td>\n      <td>one-shot</td>\n    </tr>\n    <tr>\n      <th>1</th>\n      <td>3</td>\n      <td>3</td>\n      <td>1</td>\n      <td>0.62</td>\n      <td>one-shot</td>\n    </tr>\n    <tr>\n      <th>2</th>\n      <td>3</td>\n      <td>3</td>\n      <td>2</td>\n      <td>0.79</td>\n      <td>one-shot</td>\n    </tr>\n    <tr>\n      <th>3</th>\n      <td>3</td>\n      <td>3</td>\n      <td>3</td>\n      <td>0.86</td>\n      <td>one-shot</td>\n    </tr>\n    <tr>\n      <th>4</th>\n      <td>3</td>\n      <td>3</td>\n      <td>4</td>\n      <td>0.57</td>\n      <td>one-shot</td>\n    </tr>\n    <tr>\n      <th>...</th>\n      <td>...</td>\n      <td>...</td>\n      <td>...</td>\n      <td>...</td>\n      <td>...</td>\n    </tr>\n    <tr>\n      <th>33</th>\n      <td>10</td>\n      <td>10</td>\n      <td>4</td>\n      <td>0.98</td>\n      <td>DPS</td>\n    </tr>\n    <tr>\n      <th>34</th>\n      <td>10</td>\n      <td>10</td>\n      <td>6</td>\n      <td>1.00</td>\n      <td>DPS</td>\n    </tr>\n    <tr>\n      <th>35</th>\n      <td>10</td>\n      <td>10</td>\n      <td>7</td>\n      <td>1.00</td>\n      <td>DPS</td>\n    </tr>\n    <tr>\n      <th>36</th>\n      <td>10</td>\n      <td>10</td>\n      <td>8</td>\n      <td>1.00</td>\n      <td>DPS</td>\n    </tr>\n    <tr>\n      <th>37</th>\n      <td>10</td>\n      <td>10</td>\n      <td>9</td>\n      <td>0.80</td>\n      <td>DPS</td>\n    </tr>\n  </tbody>\n</table>\n<p>140 rows × 5 columns</p>\n</div>"
     },
     "execution_count": 98,
     "metadata": {},
     "output_type": "execute_result"
    }
   ],
   "source": [
    "results"
   ],
   "metadata": {
    "collapsed": false,
    "ExecuteTime": {
     "end_time": "2024-07-04T12:11:19.252204400Z",
     "start_time": "2024-07-04T12:11:19.112396900Z"
    }
   }
  },
  {
   "cell_type": "code",
   "execution_count": 99,
   "outputs": [],
   "source": [
    "scaled_result_list = []\n",
    "for index, row in results.iterrows():\n",
    "    best_score_at_row = best_score_across_approaches[row['num_units'], row['num_sensors'], row['instance']]\n",
    "    scaled_score = row['best_score'] / best_score_at_row\n",
    "    scaled_result_list.append(scaled_score)\n",
    "\n",
    "results['scaled score'] = scaled_result_list"
   ],
   "metadata": {
    "collapsed": false,
    "ExecuteTime": {
     "end_time": "2024-07-04T12:11:19.298978Z",
     "start_time": "2024-07-04T12:11:19.143288800Z"
    }
   }
  },
  {
   "cell_type": "code",
   "execution_count": 100,
   "outputs": [],
   "source": [
    "results['|U|, |S|'] = results['num_units'].astype(int).astype(str) + ', ' + results['num_sensors'].astype(int).astype(str)"
   ],
   "metadata": {
    "collapsed": false,
    "ExecuteTime": {
     "end_time": "2024-07-04T12:11:19.324996700Z",
     "start_time": "2024-07-04T12:11:19.196033700Z"
    }
   }
  },
  {
   "cell_type": "code",
   "execution_count": 101,
   "outputs": [
    {
     "data": {
      "text/plain": "    num_units  num_sensors  instance  best_score  approach  scaled score  \\\n0           3            3         0        0.75  one-shot      0.937500   \n1           3            3         1        0.62  one-shot      0.775000   \n2           3            3         2        0.79  one-shot      0.963415   \n3           3            3         3        0.86  one-shot      1.000000   \n4           3            3         4        0.57  one-shot      0.934426   \n..        ...          ...       ...         ...       ...           ...   \n33         10           10         4        0.98       DPS      0.980000   \n34         10           10         6        1.00       DPS      1.000000   \n35         10           10         7        1.00       DPS      1.000000   \n36         10           10         8        1.00       DPS      1.000000   \n37         10           10         9        0.80       DPS      0.800000   \n\n   |U|, |S|  \n0      3, 3  \n1      3, 3  \n2      3, 3  \n3      3, 3  \n4      3, 3  \n..      ...  \n33   10, 10  \n34   10, 10  \n35   10, 10  \n36   10, 10  \n37   10, 10  \n\n[140 rows x 7 columns]",
      "text/html": "<div>\n<style scoped>\n    .dataframe tbody tr th:only-of-type {\n        vertical-align: middle;\n    }\n\n    .dataframe tbody tr th {\n        vertical-align: top;\n    }\n\n    .dataframe thead th {\n        text-align: right;\n    }\n</style>\n<table border=\"1\" class=\"dataframe\">\n  <thead>\n    <tr style=\"text-align: right;\">\n      <th></th>\n      <th>num_units</th>\n      <th>num_sensors</th>\n      <th>instance</th>\n      <th>best_score</th>\n      <th>approach</th>\n      <th>scaled score</th>\n      <th>|U|, |S|</th>\n    </tr>\n  </thead>\n  <tbody>\n    <tr>\n      <th>0</th>\n      <td>3</td>\n      <td>3</td>\n      <td>0</td>\n      <td>0.75</td>\n      <td>one-shot</td>\n      <td>0.937500</td>\n      <td>3, 3</td>\n    </tr>\n    <tr>\n      <th>1</th>\n      <td>3</td>\n      <td>3</td>\n      <td>1</td>\n      <td>0.62</td>\n      <td>one-shot</td>\n      <td>0.775000</td>\n      <td>3, 3</td>\n    </tr>\n    <tr>\n      <th>2</th>\n      <td>3</td>\n      <td>3</td>\n      <td>2</td>\n      <td>0.79</td>\n      <td>one-shot</td>\n      <td>0.963415</td>\n      <td>3, 3</td>\n    </tr>\n    <tr>\n      <th>3</th>\n      <td>3</td>\n      <td>3</td>\n      <td>3</td>\n      <td>0.86</td>\n      <td>one-shot</td>\n      <td>1.000000</td>\n      <td>3, 3</td>\n    </tr>\n    <tr>\n      <th>4</th>\n      <td>3</td>\n      <td>3</td>\n      <td>4</td>\n      <td>0.57</td>\n      <td>one-shot</td>\n      <td>0.934426</td>\n      <td>3, 3</td>\n    </tr>\n    <tr>\n      <th>...</th>\n      <td>...</td>\n      <td>...</td>\n      <td>...</td>\n      <td>...</td>\n      <td>...</td>\n      <td>...</td>\n      <td>...</td>\n    </tr>\n    <tr>\n      <th>33</th>\n      <td>10</td>\n      <td>10</td>\n      <td>4</td>\n      <td>0.98</td>\n      <td>DPS</td>\n      <td>0.980000</td>\n      <td>10, 10</td>\n    </tr>\n    <tr>\n      <th>34</th>\n      <td>10</td>\n      <td>10</td>\n      <td>6</td>\n      <td>1.00</td>\n      <td>DPS</td>\n      <td>1.000000</td>\n      <td>10, 10</td>\n    </tr>\n    <tr>\n      <th>35</th>\n      <td>10</td>\n      <td>10</td>\n      <td>7</td>\n      <td>1.00</td>\n      <td>DPS</td>\n      <td>1.000000</td>\n      <td>10, 10</td>\n    </tr>\n    <tr>\n      <th>36</th>\n      <td>10</td>\n      <td>10</td>\n      <td>8</td>\n      <td>1.00</td>\n      <td>DPS</td>\n      <td>1.000000</td>\n      <td>10, 10</td>\n    </tr>\n    <tr>\n      <th>37</th>\n      <td>10</td>\n      <td>10</td>\n      <td>9</td>\n      <td>0.80</td>\n      <td>DPS</td>\n      <td>0.800000</td>\n      <td>10, 10</td>\n    </tr>\n  </tbody>\n</table>\n<p>140 rows × 7 columns</p>\n</div>"
     },
     "execution_count": 101,
     "metadata": {},
     "output_type": "execute_result"
    }
   ],
   "source": [
    "results"
   ],
   "metadata": {
    "collapsed": false,
    "ExecuteTime": {
     "end_time": "2024-07-04T12:11:19.381161900Z",
     "start_time": "2024-07-04T12:11:19.214927600Z"
    }
   }
  },
  {
   "cell_type": "code",
   "execution_count": 102,
   "outputs": [],
   "source": [
    "sns.set_style(\"whitegrid\", {'axes.grid' : False})\n",
    "my_palette=['silver', 'tab:green', 'tab:red', 'tab:blue']"
   ],
   "metadata": {
    "collapsed": false,
    "ExecuteTime": {
     "end_time": "2024-07-04T12:11:19.396379300Z",
     "start_time": "2024-07-04T12:11:19.235783100Z"
    }
   }
  },
  {
   "cell_type": "code",
   "execution_count": 103,
   "outputs": [],
   "source": [
    "\n",
    "# ax = sns.catplot(results, y='scaled score', x = '|U|, |S|', hue='approach', palette=my_palette, kind='box', aspect=1.4, linewidth=1)\n",
    "# \n",
    "# plt.ylim(0, 1.05)\n",
    "# \n",
    "# \n",
    "# plt.savefig(f'figs/{city}_compare_approaches_multiUS_boxplot.png', dpi=300)"
   ],
   "metadata": {
    "collapsed": false,
    "ExecuteTime": {
     "end_time": "2024-07-04T12:11:19.511925700Z",
     "start_time": "2024-07-04T12:11:19.252204400Z"
    }
   }
  },
  {
   "cell_type": "code",
   "execution_count": 104,
   "outputs": [],
   "source": [
    "# sns.catplot(results, y='scaled score', x = '|U|, |S|', hue='approach', palette=my_palette, kind='swarm', dodge=True, aspect=1.4)\n",
    "# plt.ylim(0, 1.05)\n",
    "# for x in range(0, len(results['|U|, |S|'].unique()) - 1):\n",
    "#   plt.plot([x + 0.5, x + 0.5], [0.42, 0.98], ':', c='lightgray', linewidth=1)\n",
    "# plt.savefig(f'figs/{city}_compare_approaches_multiUS_swarmplot.png', dpi=300)"
   ],
   "metadata": {
    "collapsed": false,
    "ExecuteTime": {
     "end_time": "2024-07-04T12:11:19.536032900Z",
     "start_time": "2024-07-04T12:11:19.283696500Z"
    }
   }
  },
  {
   "cell_type": "code",
   "execution_count": 105,
   "outputs": [],
   "source": [
    "# # plt.rc_context({\"xtick.major.pad\": 0})\n",
    "# \n",
    "# sns.catplot(results, y='scaled score', x = '|U|, |S|', hue='approach', palette=my_palette, kind='swarm', dodge=True, aspect=2.8)\n",
    "# # ww: 3, mh: 2.4, \n",
    "# plt.ylim(0, 1.05)\n",
    "# for x in range(0, len(results['|U|, |S|'].unique())):\n",
    "#     plt.axvspan(x - 0.5, x + 0.5, facecolor='gray', alpha=[0 if x%2 == 0 else 0.05][0])\n",
    "# plt.savefig(f'figs/{city}_compare_approaches_multiUS_swarmplot.png', dpi=300)"
   ],
   "metadata": {
    "collapsed": false,
    "ExecuteTime": {
     "end_time": "2024-07-04T12:11:19.536032900Z",
     "start_time": "2024-07-04T12:11:19.298978Z"
    }
   }
  },
  {
   "cell_type": "code",
   "execution_count": 106,
   "outputs": [],
   "source": [
    "# ax = sns.catplot(results, y='best_score', x = '|U|, |S|', hue='approach', palette=my_palette, kind='swarm', dodge=True, aspect=2.6)\n",
    "# # ww: 2.6, mh: 1.8\n",
    "# plt.ylim(0, 1.05)\n",
    "# ax.set(ylabel='score')\n",
    "# for x in range(0, len(results['|U|, |S|'].unique())):\n",
    "#     plt.axvspan(x - 0.5, x + 0.5, facecolor='gray', alpha=[0 if x%2 == 0 else 0.05][0])\n",
    "# plt.savefig(f'figs/{city}_compare_approaches_notscaled_limitednfe_swarmplot.png', dpi=300)"
   ],
   "metadata": {
    "collapsed": false,
    "ExecuteTime": {
     "end_time": "2024-07-04T12:11:19.536032900Z",
     "start_time": "2024-07-04T12:11:19.324996700Z"
    }
   }
  },
  {
   "cell_type": "code",
   "execution_count": 107,
   "outputs": [],
   "source": [
    "# ax = sns.catplot(results, y='best_score', x = '|U|, |S|', hue='approach', palette=my_palette, col='instance', kind='swarm', dodge=True)\n",
    "# # ww: 2.6, mh: 1.8\n",
    "# plt.ylim(0, 1.05)\n",
    "# ax.set(ylabel='score')\n",
    "# for x in range(0, len(results['|U|, |S|'].unique())):\n",
    "#     plt.axvspan(x - 0.5, x + 0.5, facecolor='gray', alpha=[0 if x%2 == 0 else 0.05][0])\n",
    "# plt.savefig(f'figs/{city}_compare_approaches_notscaled_swarmplot_perinstance.png', dpi=300)"
   ],
   "metadata": {
    "collapsed": false,
    "ExecuteTime": {
     "end_time": "2024-07-04T12:11:19.551855200Z",
     "start_time": "2024-07-04T12:11:19.346908300Z"
    }
   }
  },
  {
   "cell_type": "code",
   "execution_count": 108,
   "outputs": [
    {
     "name": "stderr",
     "output_type": "stream",
     "text": [
      "C:\\Users\\isvandroffelaa\\AppData\\Local\\Temp\\ipykernel_24784\\3014077161.py:1: FutureWarning: Use \"auto\" to set automatic grayscale colors. From v0.14.0, \"gray\" will default to matplotlib's definition.\n",
      "  sns.catplot(results, y='scaled score', x = '|U|, |S|', hue='approach', palette=my_palette, kind='box', linewidth=1, boxprops={'alpha': 0.4}, gap=.2, aspect=2.7, whis=0, showfliers=False, linecolor='gray', showcaps = False, fill=False, medianprops=dict(linewidth=2), legend=False)\n",
      "C:\\Users\\isvandroffelaa\\Documents\\model\\adaptive_policies\\DPS\\venv\\lib\\site-packages\\seaborn\\axisgrid.py:123: UserWarning: The figure layout has changed to tight\n",
      "  self._figure.tight_layout(*args, **kwargs)\n"
     ]
    },
    {
     "data": {
      "text/plain": "<Figure size 1350x500 with 1 Axes>",
      "image/png": "[encoded data removed]"
     },
     "metadata": {},
     "output_type": "display_data"
    }
   ],
   "source": [
    "sns.catplot(results, y='scaled score', x = '|U|, |S|', hue='approach', palette=my_palette, kind='box', linewidth=1, boxprops={'alpha': 0.4}, gap=.2, aspect=2.7, whis=0, showfliers=False, linecolor='gray', showcaps = False, fill=False, medianprops=dict(linewidth=2), legend=False)\n",
    "# sns.boxplot(results, y='scaled score', x = '|U|, |S|', hue='approach', palette=my_palette, gap=.2, boxprops={'alpha': 0.4})\n",
    "ax = sns.swarmplot(data=results, y='scaled score', x = '|U|, |S|', hue='approach', palette=my_palette, dodge=True)\n",
    "sns.move_legend(ax, \"upper left\", bbox_to_anchor=(1, 0.75), markerscale=2, frameon=False)  \n",
    "\n",
    "# g.map(sns.catplot(results, y='best_score', x = '|U|, |S|', hue='approach', palette=my_palette, kind='swarm', dodge=True, ))\n",
    "# ww: 2.6, mh: 1.8\n",
    "plt.ylim(0, 1.05)\n",
    "ax.set(ylabel='scaled score')\n",
    "for x in range(0, len(results['|U|, |S|'].unique())):\n",
    "    plt.axvspan(x - 0.5, x + 0.5, facecolor='gray', alpha=[0 if x%2 == 0 else 0.05][0])\n",
    "\n",
    "plt.savefig(f'figs/{city}_compare_approaches_multiUS_boxplot_limitednfe.png', dpi=300, bbox_inches='tight')"
   ],
   "metadata": {
    "collapsed": false,
    "ExecuteTime": {
     "end_time": "2024-07-04T12:11:21.239709700Z",
     "start_time": "2024-07-04T12:11:19.381161900Z"
    }
   }
  },
  {
   "cell_type": "code",
   "execution_count": 109,
   "outputs": [
    {
     "data": {
      "text/plain": "{(3, 3): 2.117,\n (3, 10): 3.2119999999999997,\n (10, 3): 2.205,\n (10, 10): 3.1640000000000006}"
     },
     "execution_count": 109,
     "metadata": {},
     "output_type": "execute_result"
    }
   ],
   "source": [
    "pd.read_pickle(f'../reopt/results/num_reopt_grid.pkl')"
   ],
   "metadata": {
    "collapsed": false,
    "ExecuteTime": {
     "end_time": "2024-07-04T12:42:01.152867400Z",
     "start_time": "2024-07-04T12:42:01.050745Z"
    }
   }
  },
  {
   "cell_type": "code",
   "execution_count": 110,
   "outputs": [
    {
     "data": {
      "text/plain": "{(3, 3): 3.3930000000000007,\n (3, 10): 5.235,\n (10, 3): 3.913000000000001,\n (10, 10): 5.479999999999999}"
     },
     "execution_count": 110,
     "metadata": {},
     "output_type": "execute_result"
    }
   ],
   "source": [
    "pd.read_pickle(f'../reopt/results/num_reopt_Manhattan.pkl')"
   ],
   "metadata": {
    "collapsed": false,
    "ExecuteTime": {
     "end_time": "2024-07-04T12:42:10.049555400Z",
     "start_time": "2024-07-04T12:42:10.003044300Z"
    }
   }
  },
  {
   "cell_type": "code",
   "execution_count": 111,
   "outputs": [
    {
     "data": {
      "text/plain": "{(3, 3): 4.132,\n (3, 10): 6.419000000000001,\n (10, 3): 3.7950000000000004,\n (10, 10): 6.654999999999999}"
     },
     "execution_count": 111,
     "metadata": {},
     "output_type": "execute_result"
    }
   ],
   "source": [
    "pd.read_pickle(f'../reopt/results/num_reopt_Utrecht.pkl')"
   ],
   "metadata": {
    "collapsed": false,
    "ExecuteTime": {
     "end_time": "2024-07-04T12:42:14.980556200Z",
     "start_time": "2024-07-04T12:42:14.950580600Z"
    }
   }
  },
  {
   "cell_type": "code",
   "execution_count": 112,
   "outputs": [
    {
     "data": {
      "text/plain": "{(3, 3): 2.5210000000000004,\n (3, 10): 5.526000000000001,\n (10, 3): 3.7550000000000003,\n (10, 10): 4.814}"
     },
     "execution_count": 112,
     "metadata": {},
     "output_type": "execute_result"
    }
   ],
   "source": [
    "pd.read_pickle(f'../reopt/results/num_reopt_Winterswijk.pkl')"
   ],
   "metadata": {
    "collapsed": false,
    "ExecuteTime": {
     "end_time": "2024-07-04T12:42:24.950192800Z",
     "start_time": "2024-07-04T12:42:24.888965400Z"
    }
   }
  },
  {
   "cell_type": "code",
   "execution_count": null,
   "outputs": [],
   "source": [],
   "metadata": {
    "collapsed": false
   }
  }
 ],
 "metadata": {
  "kernelspec": {
   "display_name": "Python 3 (ipykernel)",
   "language": "python",
   "name": "python3"
  },
  "language_info": {
   "codemirror_mode": {
    "name": "ipython",
    "version": 3
   },
   "file_extension": ".py",
   "mimetype": "text/x-python",
   "name": "python",
   "nbconvert_exporter": "python",
   "pygments_lexer": "ipython3",
   "version": "3.9.7"
  }
 },
 "nbformat": 4,
 "nbformat_minor": 1
}
